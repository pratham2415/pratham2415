{
  "nbformat": 4,
  "nbformat_minor": 0,
  "metadata": {
    "colab": {
      "provenance": [],
      "mount_file_id": "1fBIx6ulLCu9AYVZPRSvqiXpv3nP9CZmW",
      "authorship_tag": "ABX9TyP6Txp03Ptfp5vw0K4yfSYl",
      "include_colab_link": true
    },
    "kernelspec": {
      "name": "python3",
      "display_name": "Python 3"
    },
    "language_info": {
      "name": "python"
    }
  },
  "cells": [
    {
      "cell_type": "markdown",
      "metadata": {
        "id": "view-in-github",
        "colab_type": "text"
      },
      "source": [
        "<a href=\"https://colab.research.google.com/github/pratham2415/pratham2415/blob/main/Untitled0.ipynb\" target=\"_parent\"><img src=\"https://colab.research.google.com/assets/colab-badge.svg\" alt=\"Open In Colab\"/></a>"
      ]
    },
    {
      "cell_type": "code",
      "execution_count": 1,
      "metadata": {
        "id": "mx3iV5IJGQMM"
      },
      "outputs": [],
      "source": [
        "import pandas as pd"
      ]
    },
    {
      "cell_type": "code",
      "source": [
        "import numpy as np"
      ],
      "metadata": {
        "id": "3IAw75eQGjI0"
      },
      "execution_count": 2,
      "outputs": []
    },
    {
      "cell_type": "code",
      "source": [
        "df = pd.read_csv(r'/content/movie.csv')"
      ],
      "metadata": {
        "id": "SRGnArd4GoEe"
      },
      "execution_count": 3,
      "outputs": []
    },
    {
      "cell_type": "code",
      "source": [
        "df.head()"
      ],
      "metadata": {
        "colab": {
          "base_uri": "https://localhost:8080/",
          "height": 431
        },
        "id": "bWxutmDqIPU8",
        "outputId": "6621cdb2-e0f8-4f0d-abb5-b4f18bae3645"
      },
      "execution_count": 4,
      "outputs": [
        {
          "output_type": "execute_result",
          "data": {
            "text/plain": [
              "     director_name     actor_1_name    actor_2_name    actor_3_name  \\\n",
              "0    John Lasseter        Tom Hanks       Tim Allen     Don Rickles   \n",
              "1     Joe Johnston   Robin Williams   Jonathan Hyde   Kirsten Dunst   \n",
              "2    Howard Deutch   Walter Matthau     Jack Lemmon     Ann-Margret   \n",
              "3  Forest Whitaker  Whitney Houston  Angela Bassett  Loretta Devine   \n",
              "4    Charles Shyer     Steve Martin    Diane Keaton    Martin Short   \n",
              "\n",
              "                     genres                  movie_title  \\\n",
              "0   Animation Comedy Family                    toy story   \n",
              "1  Adventure Fantasy Family                      jumanji   \n",
              "2            Romance Comedy             grumpier old men   \n",
              "3      Comedy Drama Romance            waiting to exhale   \n",
              "4                    Comedy  father of the bride part ii   \n",
              "\n",
              "                                                comb  \n",
              "0  Tom Hanks Tim Allen Don Rickles John Lasseter ...  \n",
              "1  Robin Williams Jonathan Hyde Kirsten Dunst Joe...  \n",
              "2  Walter Matthau Jack Lemmon Ann-Margret Howard ...  \n",
              "3  Whitney Houston Angela Bassett Loretta Devine ...  \n",
              "4  Steve Martin Diane Keaton Martin Short Charles...  "
            ],
            "text/html": [
              "\n",
              "  <div id=\"df-8d6c2cd7-f044-486b-9b3b-4019fc846f65\" class=\"colab-df-container\">\n",
              "    <div>\n",
              "<style scoped>\n",
              "    .dataframe tbody tr th:only-of-type {\n",
              "        vertical-align: middle;\n",
              "    }\n",
              "\n",
              "    .dataframe tbody tr th {\n",
              "        vertical-align: top;\n",
              "    }\n",
              "\n",
              "    .dataframe thead th {\n",
              "        text-align: right;\n",
              "    }\n",
              "</style>\n",
              "<table border=\"1\" class=\"dataframe\">\n",
              "  <thead>\n",
              "    <tr style=\"text-align: right;\">\n",
              "      <th></th>\n",
              "      <th>director_name</th>\n",
              "      <th>actor_1_name</th>\n",
              "      <th>actor_2_name</th>\n",
              "      <th>actor_3_name</th>\n",
              "      <th>genres</th>\n",
              "      <th>movie_title</th>\n",
              "      <th>comb</th>\n",
              "    </tr>\n",
              "  </thead>\n",
              "  <tbody>\n",
              "    <tr>\n",
              "      <th>0</th>\n",
              "      <td>John Lasseter</td>\n",
              "      <td>Tom Hanks</td>\n",
              "      <td>Tim Allen</td>\n",
              "      <td>Don Rickles</td>\n",
              "      <td>Animation Comedy Family</td>\n",
              "      <td>toy story</td>\n",
              "      <td>Tom Hanks Tim Allen Don Rickles John Lasseter ...</td>\n",
              "    </tr>\n",
              "    <tr>\n",
              "      <th>1</th>\n",
              "      <td>Joe Johnston</td>\n",
              "      <td>Robin Williams</td>\n",
              "      <td>Jonathan Hyde</td>\n",
              "      <td>Kirsten Dunst</td>\n",
              "      <td>Adventure Fantasy Family</td>\n",
              "      <td>jumanji</td>\n",
              "      <td>Robin Williams Jonathan Hyde Kirsten Dunst Joe...</td>\n",
              "    </tr>\n",
              "    <tr>\n",
              "      <th>2</th>\n",
              "      <td>Howard Deutch</td>\n",
              "      <td>Walter Matthau</td>\n",
              "      <td>Jack Lemmon</td>\n",
              "      <td>Ann-Margret</td>\n",
              "      <td>Romance Comedy</td>\n",
              "      <td>grumpier old men</td>\n",
              "      <td>Walter Matthau Jack Lemmon Ann-Margret Howard ...</td>\n",
              "    </tr>\n",
              "    <tr>\n",
              "      <th>3</th>\n",
              "      <td>Forest Whitaker</td>\n",
              "      <td>Whitney Houston</td>\n",
              "      <td>Angela Bassett</td>\n",
              "      <td>Loretta Devine</td>\n",
              "      <td>Comedy Drama Romance</td>\n",
              "      <td>waiting to exhale</td>\n",
              "      <td>Whitney Houston Angela Bassett Loretta Devine ...</td>\n",
              "    </tr>\n",
              "    <tr>\n",
              "      <th>4</th>\n",
              "      <td>Charles Shyer</td>\n",
              "      <td>Steve Martin</td>\n",
              "      <td>Diane Keaton</td>\n",
              "      <td>Martin Short</td>\n",
              "      <td>Comedy</td>\n",
              "      <td>father of the bride part ii</td>\n",
              "      <td>Steve Martin Diane Keaton Martin Short Charles...</td>\n",
              "    </tr>\n",
              "  </tbody>\n",
              "</table>\n",
              "</div>\n",
              "    <div class=\"colab-df-buttons\">\n",
              "\n",
              "  <div class=\"colab-df-container\">\n",
              "    <button class=\"colab-df-convert\" onclick=\"convertToInteractive('df-8d6c2cd7-f044-486b-9b3b-4019fc846f65')\"\n",
              "            title=\"Convert this dataframe to an interactive table.\"\n",
              "            style=\"display:none;\">\n",
              "\n",
              "  <svg xmlns=\"http://www.w3.org/2000/svg\" height=\"24px\" viewBox=\"0 -960 960 960\">\n",
              "    <path d=\"M120-120v-720h720v720H120Zm60-500h600v-160H180v160Zm220 220h160v-160H400v160Zm0 220h160v-160H400v160ZM180-400h160v-160H180v160Zm440 0h160v-160H620v160ZM180-180h160v-160H180v160Zm440 0h160v-160H620v160Z\"/>\n",
              "  </svg>\n",
              "    </button>\n",
              "\n",
              "  <style>\n",
              "    .colab-df-container {\n",
              "      display:flex;\n",
              "      gap: 12px;\n",
              "    }\n",
              "\n",
              "    .colab-df-convert {\n",
              "      background-color: #E8F0FE;\n",
              "      border: none;\n",
              "      border-radius: 50%;\n",
              "      cursor: pointer;\n",
              "      display: none;\n",
              "      fill: #1967D2;\n",
              "      height: 32px;\n",
              "      padding: 0 0 0 0;\n",
              "      width: 32px;\n",
              "    }\n",
              "\n",
              "    .colab-df-convert:hover {\n",
              "      background-color: #E2EBFA;\n",
              "      box-shadow: 0px 1px 2px rgba(60, 64, 67, 0.3), 0px 1px 3px 1px rgba(60, 64, 67, 0.15);\n",
              "      fill: #174EA6;\n",
              "    }\n",
              "\n",
              "    .colab-df-buttons div {\n",
              "      margin-bottom: 4px;\n",
              "    }\n",
              "\n",
              "    [theme=dark] .colab-df-convert {\n",
              "      background-color: #3B4455;\n",
              "      fill: #D2E3FC;\n",
              "    }\n",
              "\n",
              "    [theme=dark] .colab-df-convert:hover {\n",
              "      background-color: #434B5C;\n",
              "      box-shadow: 0px 1px 3px 1px rgba(0, 0, 0, 0.15);\n",
              "      filter: drop-shadow(0px 1px 2px rgba(0, 0, 0, 0.3));\n",
              "      fill: #FFFFFF;\n",
              "    }\n",
              "  </style>\n",
              "\n",
              "    <script>\n",
              "      const buttonEl =\n",
              "        document.querySelector('#df-8d6c2cd7-f044-486b-9b3b-4019fc846f65 button.colab-df-convert');\n",
              "      buttonEl.style.display =\n",
              "        google.colab.kernel.accessAllowed ? 'block' : 'none';\n",
              "\n",
              "      async function convertToInteractive(key) {\n",
              "        const element = document.querySelector('#df-8d6c2cd7-f044-486b-9b3b-4019fc846f65');\n",
              "        const dataTable =\n",
              "          await google.colab.kernel.invokeFunction('convertToInteractive',\n",
              "                                                    [key], {});\n",
              "        if (!dataTable) return;\n",
              "\n",
              "        const docLinkHtml = 'Like what you see? Visit the ' +\n",
              "          '<a target=\"_blank\" href=https://colab.research.google.com/notebooks/data_table.ipynb>data table notebook</a>'\n",
              "          + ' to learn more about interactive tables.';\n",
              "        element.innerHTML = '';\n",
              "        dataTable['output_type'] = 'display_data';\n",
              "        await google.colab.output.renderOutput(dataTable, element);\n",
              "        const docLink = document.createElement('div');\n",
              "        docLink.innerHTML = docLinkHtml;\n",
              "        element.appendChild(docLink);\n",
              "      }\n",
              "    </script>\n",
              "  </div>\n",
              "\n",
              "\n",
              "<div id=\"df-cf0704d8-9cc3-414b-92e9-96b16975f0e8\">\n",
              "  <button class=\"colab-df-quickchart\" onclick=\"quickchart('df-cf0704d8-9cc3-414b-92e9-96b16975f0e8')\"\n",
              "            title=\"Suggest charts\"\n",
              "            style=\"display:none;\">\n",
              "\n",
              "<svg xmlns=\"http://www.w3.org/2000/svg\" height=\"24px\"viewBox=\"0 0 24 24\"\n",
              "     width=\"24px\">\n",
              "    <g>\n",
              "        <path d=\"M19 3H5c-1.1 0-2 .9-2 2v14c0 1.1.9 2 2 2h14c1.1 0 2-.9 2-2V5c0-1.1-.9-2-2-2zM9 17H7v-7h2v7zm4 0h-2V7h2v10zm4 0h-2v-4h2v4z\"/>\n",
              "    </g>\n",
              "</svg>\n",
              "  </button>\n",
              "\n",
              "<style>\n",
              "  .colab-df-quickchart {\n",
              "      --bg-color: #E8F0FE;\n",
              "      --fill-color: #1967D2;\n",
              "      --hover-bg-color: #E2EBFA;\n",
              "      --hover-fill-color: #174EA6;\n",
              "      --disabled-fill-color: #AAA;\n",
              "      --disabled-bg-color: #DDD;\n",
              "  }\n",
              "\n",
              "  [theme=dark] .colab-df-quickchart {\n",
              "      --bg-color: #3B4455;\n",
              "      --fill-color: #D2E3FC;\n",
              "      --hover-bg-color: #434B5C;\n",
              "      --hover-fill-color: #FFFFFF;\n",
              "      --disabled-bg-color: #3B4455;\n",
              "      --disabled-fill-color: #666;\n",
              "  }\n",
              "\n",
              "  .colab-df-quickchart {\n",
              "    background-color: var(--bg-color);\n",
              "    border: none;\n",
              "    border-radius: 50%;\n",
              "    cursor: pointer;\n",
              "    display: none;\n",
              "    fill: var(--fill-color);\n",
              "    height: 32px;\n",
              "    padding: 0;\n",
              "    width: 32px;\n",
              "  }\n",
              "\n",
              "  .colab-df-quickchart:hover {\n",
              "    background-color: var(--hover-bg-color);\n",
              "    box-shadow: 0 1px 2px rgba(60, 64, 67, 0.3), 0 1px 3px 1px rgba(60, 64, 67, 0.15);\n",
              "    fill: var(--button-hover-fill-color);\n",
              "  }\n",
              "\n",
              "  .colab-df-quickchart-complete:disabled,\n",
              "  .colab-df-quickchart-complete:disabled:hover {\n",
              "    background-color: var(--disabled-bg-color);\n",
              "    fill: var(--disabled-fill-color);\n",
              "    box-shadow: none;\n",
              "  }\n",
              "\n",
              "  .colab-df-spinner {\n",
              "    border: 2px solid var(--fill-color);\n",
              "    border-color: transparent;\n",
              "    border-bottom-color: var(--fill-color);\n",
              "    animation:\n",
              "      spin 1s steps(1) infinite;\n",
              "  }\n",
              "\n",
              "  @keyframes spin {\n",
              "    0% {\n",
              "      border-color: transparent;\n",
              "      border-bottom-color: var(--fill-color);\n",
              "      border-left-color: var(--fill-color);\n",
              "    }\n",
              "    20% {\n",
              "      border-color: transparent;\n",
              "      border-left-color: var(--fill-color);\n",
              "      border-top-color: var(--fill-color);\n",
              "    }\n",
              "    30% {\n",
              "      border-color: transparent;\n",
              "      border-left-color: var(--fill-color);\n",
              "      border-top-color: var(--fill-color);\n",
              "      border-right-color: var(--fill-color);\n",
              "    }\n",
              "    40% {\n",
              "      border-color: transparent;\n",
              "      border-right-color: var(--fill-color);\n",
              "      border-top-color: var(--fill-color);\n",
              "    }\n",
              "    60% {\n",
              "      border-color: transparent;\n",
              "      border-right-color: var(--fill-color);\n",
              "    }\n",
              "    80% {\n",
              "      border-color: transparent;\n",
              "      border-right-color: var(--fill-color);\n",
              "      border-bottom-color: var(--fill-color);\n",
              "    }\n",
              "    90% {\n",
              "      border-color: transparent;\n",
              "      border-bottom-color: var(--fill-color);\n",
              "    }\n",
              "  }\n",
              "</style>\n",
              "\n",
              "  <script>\n",
              "    async function quickchart(key) {\n",
              "      const quickchartButtonEl =\n",
              "        document.querySelector('#' + key + ' button');\n",
              "      quickchartButtonEl.disabled = true;  // To prevent multiple clicks.\n",
              "      quickchartButtonEl.classList.add('colab-df-spinner');\n",
              "      try {\n",
              "        const charts = await google.colab.kernel.invokeFunction(\n",
              "            'suggestCharts', [key], {});\n",
              "      } catch (error) {\n",
              "        console.error('Error during call to suggestCharts:', error);\n",
              "      }\n",
              "      quickchartButtonEl.classList.remove('colab-df-spinner');\n",
              "      quickchartButtonEl.classList.add('colab-df-quickchart-complete');\n",
              "    }\n",
              "    (() => {\n",
              "      let quickchartButtonEl =\n",
              "        document.querySelector('#df-cf0704d8-9cc3-414b-92e9-96b16975f0e8 button');\n",
              "      quickchartButtonEl.style.display =\n",
              "        google.colab.kernel.accessAllowed ? 'block' : 'none';\n",
              "    })();\n",
              "  </script>\n",
              "</div>\n",
              "\n",
              "    </div>\n",
              "  </div>\n"
            ],
            "application/vnd.google.colaboratory.intrinsic+json": {
              "type": "dataframe",
              "variable_name": "df",
              "summary": "{\n  \"name\": \"df\",\n  \"rows\": 36341,\n  \"fields\": [\n    {\n      \"column\": \"director_name\",\n      \"properties\": {\n        \"dtype\": \"category\",\n        \"num_unique_values\": 15710,\n        \"samples\": [\n          \"Nicholas Ozeki\",\n          \"Yong-ki Jeong \",\n          \"Andrew Adamson Vicky Jenson\"\n        ],\n        \"semantic_type\": \"\",\n        \"description\": \"\"\n      }\n    },\n    {\n      \"column\": \"actor_1_name\",\n      \"properties\": {\n        \"dtype\": \"category\",\n        \"num_unique_values\": 15905,\n        \"samples\": [\n          \"Billy Connolly\",\n          \"Emma Kenney\",\n          \"Piotr Fronczewski\"\n        ],\n        \"semantic_type\": \"\",\n        \"description\": \"\"\n      }\n    },\n    {\n      \"column\": \"actor_2_name\",\n      \"properties\": {\n        \"dtype\": \"string\",\n        \"num_unique_values\": 20039,\n        \"samples\": [\n          \"Yoko Ono\",\n          \"Desiree Garcia\",\n          \"Sheila Kelley\"\n        ],\n        \"semantic_type\": \"\",\n        \"description\": \"\"\n      }\n    },\n    {\n      \"column\": \"actor_3_name\",\n      \"properties\": {\n        \"dtype\": \"string\",\n        \"num_unique_values\": 22480,\n        \"samples\": [\n          \"Brad Beyer\",\n          \"Trevor Wright\",\n          \"Frankie Chan Fan-Kei\"\n        ],\n        \"semantic_type\": \"\",\n        \"description\": \"\"\n      }\n    },\n    {\n      \"column\": \"genres\",\n      \"properties\": {\n        \"dtype\": \"category\",\n        \"num_unique_values\": 3735,\n        \"samples\": [\n          \"Animation Fantasy Mystery Horror\",\n          \"Thriller Action Romance\",\n          \"Thriller Fantasy Sci-Fi Horror Drama\"\n        ],\n        \"semantic_type\": \"\",\n        \"description\": \"\"\n      }\n    },\n    {\n      \"column\": \"movie_title\",\n      \"properties\": {\n        \"dtype\": \"string\",\n        \"num_unique_values\": 36341,\n        \"samples\": [\n          \"recipe for a perfect christmas\",\n          \"air raid wardens\",\n          \"the adventure of faustus bidgood\"\n        ],\n        \"semantic_type\": \"\",\n        \"description\": \"\"\n      }\n    },\n    {\n      \"column\": \"comb\",\n      \"properties\": {\n        \"dtype\": \"string\",\n        \"num_unique_values\": 36223,\n        \"samples\": [\n          \"Rick Kavanian Nora Tschirner Bud Spencer Sebastian Niemann Comedy Crime\",\n          \"Pam Grier Robert DoQui Sid Haig Jack Hill  Thriller Action Adventure Drama Crime\",\n          \"Deanna Durbin Charles Laughton Robert Cummings Henry Koster Comedy Romance\"\n        ],\n        \"semantic_type\": \"\",\n        \"description\": \"\"\n      }\n    }\n  ]\n}"
            }
          },
          "metadata": {},
          "execution_count": 4
        }
      ]
    },
    {
      "cell_type": "code",
      "source": [
        "df.info()"
      ],
      "metadata": {
        "colab": {
          "base_uri": "https://localhost:8080/"
        },
        "id": "fNxtyI6BIvbu",
        "outputId": "45fca890-6c14-4f6b-a304-b8e2af523039"
      },
      "execution_count": 5,
      "outputs": [
        {
          "output_type": "stream",
          "name": "stdout",
          "text": [
            "<class 'pandas.core.frame.DataFrame'>\n",
            "RangeIndex: 36341 entries, 0 to 36340\n",
            "Data columns (total 7 columns):\n",
            " #   Column         Non-Null Count  Dtype \n",
            "---  ------         --------------  ----- \n",
            " 0   director_name  36341 non-null  object\n",
            " 1   actor_1_name   36341 non-null  object\n",
            " 2   actor_2_name   36341 non-null  object\n",
            " 3   actor_3_name   36341 non-null  object\n",
            " 4   genres         36341 non-null  object\n",
            " 5   movie_title    36341 non-null  object\n",
            " 6   comb           36341 non-null  object\n",
            "dtypes: object(7)\n",
            "memory usage: 1.9+ MB\n"
          ]
        }
      ]
    },
    {
      "cell_type": "code",
      "source": [
        "df.shape"
      ],
      "metadata": {
        "colab": {
          "base_uri": "https://localhost:8080/"
        },
        "id": "hF6u0UR1I2k7",
        "outputId": "53d4d47e-da1a-4db0-98f9-863c7a43d3e2"
      },
      "execution_count": 6,
      "outputs": [
        {
          "output_type": "execute_result",
          "data": {
            "text/plain": [
              "(36341, 7)"
            ]
          },
          "metadata": {},
          "execution_count": 6
        }
      ]
    },
    {
      "cell_type": "code",
      "source": [
        "df.columns"
      ],
      "metadata": {
        "colab": {
          "base_uri": "https://localhost:8080/"
        },
        "id": "jsQqplshI8YF",
        "outputId": "ddb12e4f-ba0d-4601-b883-59c0aed8d4a0"
      },
      "execution_count": 7,
      "outputs": [
        {
          "output_type": "execute_result",
          "data": {
            "text/plain": [
              "Index(['director_name', 'actor_1_name', 'actor_2_name', 'actor_3_name',\n",
              "       'genres', 'movie_title', 'comb'],\n",
              "      dtype='object')"
            ]
          },
          "metadata": {},
          "execution_count": 7
        }
      ]
    },
    {
      "cell_type": "code",
      "source": [
        "df_features = df[['actor_1_name', 'actor_2_name', 'actor_3_name','movie_title']].fillna('')"
      ],
      "metadata": {
        "id": "3RWe4kVgJKdy"
      },
      "execution_count": 8,
      "outputs": []
    },
    {
      "cell_type": "code",
      "source": [
        "df_features.shape"
      ],
      "metadata": {
        "colab": {
          "base_uri": "https://localhost:8080/"
        },
        "id": "DDefBWMSJplP",
        "outputId": "b31a6973-d2b2-4e08-e388-1da3b0b0764b"
      },
      "execution_count": 9,
      "outputs": [
        {
          "output_type": "execute_result",
          "data": {
            "text/plain": [
              "(36341, 4)"
            ]
          },
          "metadata": {},
          "execution_count": 9
        }
      ]
    },
    {
      "cell_type": "code",
      "source": [
        "df_features"
      ],
      "metadata": {
        "colab": {
          "base_uri": "https://localhost:8080/",
          "height": 423
        },
        "id": "gkXPIlaOJ1fX",
        "outputId": "5dccbd3d-bdf3-42e0-9b68-e045e971d8cb"
      },
      "execution_count": 10,
      "outputs": [
        {
          "output_type": "execute_result",
          "data": {
            "text/plain": [
              "          actor_1_name    actor_2_name     actor_3_name  \\\n",
              "0            Tom Hanks       Tim Allen      Don Rickles   \n",
              "1       Robin Williams   Jonathan Hyde    Kirsten Dunst   \n",
              "2       Walter Matthau     Jack Lemmon      Ann-Margret   \n",
              "3      Whitney Houston  Angela Bassett   Loretta Devine   \n",
              "4         Steve Martin    Diane Keaton     Martin Short   \n",
              "...                ...             ...              ...   \n",
              "36336       Monty Bane     Lucy Butler    David Grammer   \n",
              "36337       Lisa Boyle       Kena Land    Zaneta Polard   \n",
              "36338   Patrick Bergin     Uma Thurman  David Morrissey   \n",
              "36339     Angel Aquino     Perry Dizon    Hazel Orencio   \n",
              "36340    Erika Eleniak    Adam Baldwin    Julie du Page   \n",
              "\n",
              "                       movie_title  \n",
              "0                        toy story  \n",
              "1                          jumanji  \n",
              "2                 grumpier old men  \n",
              "3                waiting to exhale  \n",
              "4      father of the bride part ii  \n",
              "...                            ...  \n",
              "36336          the burkittsville 7  \n",
              "36337              caged heat 3000  \n",
              "36338                   robin hood  \n",
              "36339          century of birthing  \n",
              "36340                     betrayal  \n",
              "\n",
              "[36341 rows x 4 columns]"
            ],
            "text/html": [
              "\n",
              "  <div id=\"df-a7689140-f201-4881-b974-11f691a32aac\" class=\"colab-df-container\">\n",
              "    <div>\n",
              "<style scoped>\n",
              "    .dataframe tbody tr th:only-of-type {\n",
              "        vertical-align: middle;\n",
              "    }\n",
              "\n",
              "    .dataframe tbody tr th {\n",
              "        vertical-align: top;\n",
              "    }\n",
              "\n",
              "    .dataframe thead th {\n",
              "        text-align: right;\n",
              "    }\n",
              "</style>\n",
              "<table border=\"1\" class=\"dataframe\">\n",
              "  <thead>\n",
              "    <tr style=\"text-align: right;\">\n",
              "      <th></th>\n",
              "      <th>actor_1_name</th>\n",
              "      <th>actor_2_name</th>\n",
              "      <th>actor_3_name</th>\n",
              "      <th>movie_title</th>\n",
              "    </tr>\n",
              "  </thead>\n",
              "  <tbody>\n",
              "    <tr>\n",
              "      <th>0</th>\n",
              "      <td>Tom Hanks</td>\n",
              "      <td>Tim Allen</td>\n",
              "      <td>Don Rickles</td>\n",
              "      <td>toy story</td>\n",
              "    </tr>\n",
              "    <tr>\n",
              "      <th>1</th>\n",
              "      <td>Robin Williams</td>\n",
              "      <td>Jonathan Hyde</td>\n",
              "      <td>Kirsten Dunst</td>\n",
              "      <td>jumanji</td>\n",
              "    </tr>\n",
              "    <tr>\n",
              "      <th>2</th>\n",
              "      <td>Walter Matthau</td>\n",
              "      <td>Jack Lemmon</td>\n",
              "      <td>Ann-Margret</td>\n",
              "      <td>grumpier old men</td>\n",
              "    </tr>\n",
              "    <tr>\n",
              "      <th>3</th>\n",
              "      <td>Whitney Houston</td>\n",
              "      <td>Angela Bassett</td>\n",
              "      <td>Loretta Devine</td>\n",
              "      <td>waiting to exhale</td>\n",
              "    </tr>\n",
              "    <tr>\n",
              "      <th>4</th>\n",
              "      <td>Steve Martin</td>\n",
              "      <td>Diane Keaton</td>\n",
              "      <td>Martin Short</td>\n",
              "      <td>father of the bride part ii</td>\n",
              "    </tr>\n",
              "    <tr>\n",
              "      <th>...</th>\n",
              "      <td>...</td>\n",
              "      <td>...</td>\n",
              "      <td>...</td>\n",
              "      <td>...</td>\n",
              "    </tr>\n",
              "    <tr>\n",
              "      <th>36336</th>\n",
              "      <td>Monty Bane</td>\n",
              "      <td>Lucy Butler</td>\n",
              "      <td>David Grammer</td>\n",
              "      <td>the burkittsville 7</td>\n",
              "    </tr>\n",
              "    <tr>\n",
              "      <th>36337</th>\n",
              "      <td>Lisa Boyle</td>\n",
              "      <td>Kena Land</td>\n",
              "      <td>Zaneta Polard</td>\n",
              "      <td>caged heat 3000</td>\n",
              "    </tr>\n",
              "    <tr>\n",
              "      <th>36338</th>\n",
              "      <td>Patrick Bergin</td>\n",
              "      <td>Uma Thurman</td>\n",
              "      <td>David Morrissey</td>\n",
              "      <td>robin hood</td>\n",
              "    </tr>\n",
              "    <tr>\n",
              "      <th>36339</th>\n",
              "      <td>Angel Aquino</td>\n",
              "      <td>Perry Dizon</td>\n",
              "      <td>Hazel Orencio</td>\n",
              "      <td>century of birthing</td>\n",
              "    </tr>\n",
              "    <tr>\n",
              "      <th>36340</th>\n",
              "      <td>Erika Eleniak</td>\n",
              "      <td>Adam Baldwin</td>\n",
              "      <td>Julie du Page</td>\n",
              "      <td>betrayal</td>\n",
              "    </tr>\n",
              "  </tbody>\n",
              "</table>\n",
              "<p>36341 rows × 4 columns</p>\n",
              "</div>\n",
              "    <div class=\"colab-df-buttons\">\n",
              "\n",
              "  <div class=\"colab-df-container\">\n",
              "    <button class=\"colab-df-convert\" onclick=\"convertToInteractive('df-a7689140-f201-4881-b974-11f691a32aac')\"\n",
              "            title=\"Convert this dataframe to an interactive table.\"\n",
              "            style=\"display:none;\">\n",
              "\n",
              "  <svg xmlns=\"http://www.w3.org/2000/svg\" height=\"24px\" viewBox=\"0 -960 960 960\">\n",
              "    <path d=\"M120-120v-720h720v720H120Zm60-500h600v-160H180v160Zm220 220h160v-160H400v160Zm0 220h160v-160H400v160ZM180-400h160v-160H180v160Zm440 0h160v-160H620v160ZM180-180h160v-160H180v160Zm440 0h160v-160H620v160Z\"/>\n",
              "  </svg>\n",
              "    </button>\n",
              "\n",
              "  <style>\n",
              "    .colab-df-container {\n",
              "      display:flex;\n",
              "      gap: 12px;\n",
              "    }\n",
              "\n",
              "    .colab-df-convert {\n",
              "      background-color: #E8F0FE;\n",
              "      border: none;\n",
              "      border-radius: 50%;\n",
              "      cursor: pointer;\n",
              "      display: none;\n",
              "      fill: #1967D2;\n",
              "      height: 32px;\n",
              "      padding: 0 0 0 0;\n",
              "      width: 32px;\n",
              "    }\n",
              "\n",
              "    .colab-df-convert:hover {\n",
              "      background-color: #E2EBFA;\n",
              "      box-shadow: 0px 1px 2px rgba(60, 64, 67, 0.3), 0px 1px 3px 1px rgba(60, 64, 67, 0.15);\n",
              "      fill: #174EA6;\n",
              "    }\n",
              "\n",
              "    .colab-df-buttons div {\n",
              "      margin-bottom: 4px;\n",
              "    }\n",
              "\n",
              "    [theme=dark] .colab-df-convert {\n",
              "      background-color: #3B4455;\n",
              "      fill: #D2E3FC;\n",
              "    }\n",
              "\n",
              "    [theme=dark] .colab-df-convert:hover {\n",
              "      background-color: #434B5C;\n",
              "      box-shadow: 0px 1px 3px 1px rgba(0, 0, 0, 0.15);\n",
              "      filter: drop-shadow(0px 1px 2px rgba(0, 0, 0, 0.3));\n",
              "      fill: #FFFFFF;\n",
              "    }\n",
              "  </style>\n",
              "\n",
              "    <script>\n",
              "      const buttonEl =\n",
              "        document.querySelector('#df-a7689140-f201-4881-b974-11f691a32aac button.colab-df-convert');\n",
              "      buttonEl.style.display =\n",
              "        google.colab.kernel.accessAllowed ? 'block' : 'none';\n",
              "\n",
              "      async function convertToInteractive(key) {\n",
              "        const element = document.querySelector('#df-a7689140-f201-4881-b974-11f691a32aac');\n",
              "        const dataTable =\n",
              "          await google.colab.kernel.invokeFunction('convertToInteractive',\n",
              "                                                    [key], {});\n",
              "        if (!dataTable) return;\n",
              "\n",
              "        const docLinkHtml = 'Like what you see? Visit the ' +\n",
              "          '<a target=\"_blank\" href=https://colab.research.google.com/notebooks/data_table.ipynb>data table notebook</a>'\n",
              "          + ' to learn more about interactive tables.';\n",
              "        element.innerHTML = '';\n",
              "        dataTable['output_type'] = 'display_data';\n",
              "        await google.colab.output.renderOutput(dataTable, element);\n",
              "        const docLink = document.createElement('div');\n",
              "        docLink.innerHTML = docLinkHtml;\n",
              "        element.appendChild(docLink);\n",
              "      }\n",
              "    </script>\n",
              "  </div>\n",
              "\n",
              "\n",
              "<div id=\"df-156ebb8f-966b-4bc5-b25d-0695019e33b4\">\n",
              "  <button class=\"colab-df-quickchart\" onclick=\"quickchart('df-156ebb8f-966b-4bc5-b25d-0695019e33b4')\"\n",
              "            title=\"Suggest charts\"\n",
              "            style=\"display:none;\">\n",
              "\n",
              "<svg xmlns=\"http://www.w3.org/2000/svg\" height=\"24px\"viewBox=\"0 0 24 24\"\n",
              "     width=\"24px\">\n",
              "    <g>\n",
              "        <path d=\"M19 3H5c-1.1 0-2 .9-2 2v14c0 1.1.9 2 2 2h14c1.1 0 2-.9 2-2V5c0-1.1-.9-2-2-2zM9 17H7v-7h2v7zm4 0h-2V7h2v10zm4 0h-2v-4h2v4z\"/>\n",
              "    </g>\n",
              "</svg>\n",
              "  </button>\n",
              "\n",
              "<style>\n",
              "  .colab-df-quickchart {\n",
              "      --bg-color: #E8F0FE;\n",
              "      --fill-color: #1967D2;\n",
              "      --hover-bg-color: #E2EBFA;\n",
              "      --hover-fill-color: #174EA6;\n",
              "      --disabled-fill-color: #AAA;\n",
              "      --disabled-bg-color: #DDD;\n",
              "  }\n",
              "\n",
              "  [theme=dark] .colab-df-quickchart {\n",
              "      --bg-color: #3B4455;\n",
              "      --fill-color: #D2E3FC;\n",
              "      --hover-bg-color: #434B5C;\n",
              "      --hover-fill-color: #FFFFFF;\n",
              "      --disabled-bg-color: #3B4455;\n",
              "      --disabled-fill-color: #666;\n",
              "  }\n",
              "\n",
              "  .colab-df-quickchart {\n",
              "    background-color: var(--bg-color);\n",
              "    border: none;\n",
              "    border-radius: 50%;\n",
              "    cursor: pointer;\n",
              "    display: none;\n",
              "    fill: var(--fill-color);\n",
              "    height: 32px;\n",
              "    padding: 0;\n",
              "    width: 32px;\n",
              "  }\n",
              "\n",
              "  .colab-df-quickchart:hover {\n",
              "    background-color: var(--hover-bg-color);\n",
              "    box-shadow: 0 1px 2px rgba(60, 64, 67, 0.3), 0 1px 3px 1px rgba(60, 64, 67, 0.15);\n",
              "    fill: var(--button-hover-fill-color);\n",
              "  }\n",
              "\n",
              "  .colab-df-quickchart-complete:disabled,\n",
              "  .colab-df-quickchart-complete:disabled:hover {\n",
              "    background-color: var(--disabled-bg-color);\n",
              "    fill: var(--disabled-fill-color);\n",
              "    box-shadow: none;\n",
              "  }\n",
              "\n",
              "  .colab-df-spinner {\n",
              "    border: 2px solid var(--fill-color);\n",
              "    border-color: transparent;\n",
              "    border-bottom-color: var(--fill-color);\n",
              "    animation:\n",
              "      spin 1s steps(1) infinite;\n",
              "  }\n",
              "\n",
              "  @keyframes spin {\n",
              "    0% {\n",
              "      border-color: transparent;\n",
              "      border-bottom-color: var(--fill-color);\n",
              "      border-left-color: var(--fill-color);\n",
              "    }\n",
              "    20% {\n",
              "      border-color: transparent;\n",
              "      border-left-color: var(--fill-color);\n",
              "      border-top-color: var(--fill-color);\n",
              "    }\n",
              "    30% {\n",
              "      border-color: transparent;\n",
              "      border-left-color: var(--fill-color);\n",
              "      border-top-color: var(--fill-color);\n",
              "      border-right-color: var(--fill-color);\n",
              "    }\n",
              "    40% {\n",
              "      border-color: transparent;\n",
              "      border-right-color: var(--fill-color);\n",
              "      border-top-color: var(--fill-color);\n",
              "    }\n",
              "    60% {\n",
              "      border-color: transparent;\n",
              "      border-right-color: var(--fill-color);\n",
              "    }\n",
              "    80% {\n",
              "      border-color: transparent;\n",
              "      border-right-color: var(--fill-color);\n",
              "      border-bottom-color: var(--fill-color);\n",
              "    }\n",
              "    90% {\n",
              "      border-color: transparent;\n",
              "      border-bottom-color: var(--fill-color);\n",
              "    }\n",
              "  }\n",
              "</style>\n",
              "\n",
              "  <script>\n",
              "    async function quickchart(key) {\n",
              "      const quickchartButtonEl =\n",
              "        document.querySelector('#' + key + ' button');\n",
              "      quickchartButtonEl.disabled = true;  // To prevent multiple clicks.\n",
              "      quickchartButtonEl.classList.add('colab-df-spinner');\n",
              "      try {\n",
              "        const charts = await google.colab.kernel.invokeFunction(\n",
              "            'suggestCharts', [key], {});\n",
              "      } catch (error) {\n",
              "        console.error('Error during call to suggestCharts:', error);\n",
              "      }\n",
              "      quickchartButtonEl.classList.remove('colab-df-spinner');\n",
              "      quickchartButtonEl.classList.add('colab-df-quickchart-complete');\n",
              "    }\n",
              "    (() => {\n",
              "      let quickchartButtonEl =\n",
              "        document.querySelector('#df-156ebb8f-966b-4bc5-b25d-0695019e33b4 button');\n",
              "      quickchartButtonEl.style.display =\n",
              "        google.colab.kernel.accessAllowed ? 'block' : 'none';\n",
              "    })();\n",
              "  </script>\n",
              "</div>\n",
              "\n",
              "  <div id=\"id_a968154e-8251-4c17-a8ec-14c423dd9211\">\n",
              "    <style>\n",
              "      .colab-df-generate {\n",
              "        background-color: #E8F0FE;\n",
              "        border: none;\n",
              "        border-radius: 50%;\n",
              "        cursor: pointer;\n",
              "        display: none;\n",
              "        fill: #1967D2;\n",
              "        height: 32px;\n",
              "        padding: 0 0 0 0;\n",
              "        width: 32px;\n",
              "      }\n",
              "\n",
              "      .colab-df-generate:hover {\n",
              "        background-color: #E2EBFA;\n",
              "        box-shadow: 0px 1px 2px rgba(60, 64, 67, 0.3), 0px 1px 3px 1px rgba(60, 64, 67, 0.15);\n",
              "        fill: #174EA6;\n",
              "      }\n",
              "\n",
              "      [theme=dark] .colab-df-generate {\n",
              "        background-color: #3B4455;\n",
              "        fill: #D2E3FC;\n",
              "      }\n",
              "\n",
              "      [theme=dark] .colab-df-generate:hover {\n",
              "        background-color: #434B5C;\n",
              "        box-shadow: 0px 1px 3px 1px rgba(0, 0, 0, 0.15);\n",
              "        filter: drop-shadow(0px 1px 2px rgba(0, 0, 0, 0.3));\n",
              "        fill: #FFFFFF;\n",
              "      }\n",
              "    </style>\n",
              "    <button class=\"colab-df-generate\" onclick=\"generateWithVariable('df_features')\"\n",
              "            title=\"Generate code using this dataframe.\"\n",
              "            style=\"display:none;\">\n",
              "\n",
              "  <svg xmlns=\"http://www.w3.org/2000/svg\" height=\"24px\"viewBox=\"0 0 24 24\"\n",
              "       width=\"24px\">\n",
              "    <path d=\"M7,19H8.4L18.45,9,17,7.55,7,17.6ZM5,21V16.75L18.45,3.32a2,2,0,0,1,2.83,0l1.4,1.43a1.91,1.91,0,0,1,.58,1.4,1.91,1.91,0,0,1-.58,1.4L9.25,21ZM18.45,9,17,7.55Zm-12,3A5.31,5.31,0,0,0,4.9,8.1,5.31,5.31,0,0,0,1,6.5,5.31,5.31,0,0,0,4.9,4.9,5.31,5.31,0,0,0,6.5,1,5.31,5.31,0,0,0,8.1,4.9,5.31,5.31,0,0,0,12,6.5,5.46,5.46,0,0,0,6.5,12Z\"/>\n",
              "  </svg>\n",
              "    </button>\n",
              "    <script>\n",
              "      (() => {\n",
              "      const buttonEl =\n",
              "        document.querySelector('#id_a968154e-8251-4c17-a8ec-14c423dd9211 button.colab-df-generate');\n",
              "      buttonEl.style.display =\n",
              "        google.colab.kernel.accessAllowed ? 'block' : 'none';\n",
              "\n",
              "      buttonEl.onclick = () => {\n",
              "        google.colab.notebook.generateWithVariable('df_features');\n",
              "      }\n",
              "      })();\n",
              "    </script>\n",
              "  </div>\n",
              "\n",
              "    </div>\n",
              "  </div>\n"
            ],
            "application/vnd.google.colaboratory.intrinsic+json": {
              "type": "dataframe",
              "variable_name": "df_features",
              "summary": "{\n  \"name\": \"df_features\",\n  \"rows\": 36341,\n  \"fields\": [\n    {\n      \"column\": \"actor_1_name\",\n      \"properties\": {\n        \"dtype\": \"category\",\n        \"num_unique_values\": 15905,\n        \"samples\": [\n          \"Billy Connolly\",\n          \"Emma Kenney\",\n          \"Piotr Fronczewski\"\n        ],\n        \"semantic_type\": \"\",\n        \"description\": \"\"\n      }\n    },\n    {\n      \"column\": \"actor_2_name\",\n      \"properties\": {\n        \"dtype\": \"string\",\n        \"num_unique_values\": 20039,\n        \"samples\": [\n          \"Yoko Ono\",\n          \"Desiree Garcia\",\n          \"Sheila Kelley\"\n        ],\n        \"semantic_type\": \"\",\n        \"description\": \"\"\n      }\n    },\n    {\n      \"column\": \"actor_3_name\",\n      \"properties\": {\n        \"dtype\": \"string\",\n        \"num_unique_values\": 22480,\n        \"samples\": [\n          \"Brad Beyer\",\n          \"Trevor Wright\",\n          \"Frankie Chan Fan-Kei\"\n        ],\n        \"semantic_type\": \"\",\n        \"description\": \"\"\n      }\n    },\n    {\n      \"column\": \"movie_title\",\n      \"properties\": {\n        \"dtype\": \"string\",\n        \"num_unique_values\": 36341,\n        \"samples\": [\n          \"recipe for a perfect christmas\",\n          \"air raid wardens\",\n          \"the adventure of faustus bidgood\"\n        ],\n        \"semantic_type\": \"\",\n        \"description\": \"\"\n      }\n    }\n  ]\n}"
            }
          },
          "metadata": {},
          "execution_count": 10
        }
      ]
    },
    {
      "cell_type": "code",
      "source": [
        "X = df_features['actor_1_name'] + '' + df_features['actor_2_name'] + '' + df_features['actor_3_name'] + '' + df_features['movie_title']"
      ],
      "metadata": {
        "id": "77QRWGi9KIS_"
      },
      "execution_count": 11,
      "outputs": []
    },
    {
      "cell_type": "code",
      "source": [
        "X"
      ],
      "metadata": {
        "colab": {
          "base_uri": "https://localhost:8080/"
        },
        "id": "oTC57lpOKy3p",
        "outputId": "71e27595-c757-40e7-e628-c8f9692a9a48"
      },
      "execution_count": 12,
      "outputs": [
        {
          "output_type": "execute_result",
          "data": {
            "text/plain": [
              "0                   Tom HanksTim AllenDon Ricklestoy story\n",
              "1          Robin WilliamsJonathan HydeKirsten Dunstjumanji\n",
              "2        Walter MatthauJack LemmonAnn-Margretgrumpier o...\n",
              "3        Whitney HoustonAngela BassettLoretta Devinewai...\n",
              "4        Steve MartinDiane KeatonMartin Shortfather of ...\n",
              "                               ...                        \n",
              "36336    Monty BaneLucy ButlerDavid Grammerthe burkitts...\n",
              "36337      Lisa BoyleKena LandZaneta Polardcaged heat 3000\n",
              "36338    Patrick BerginUma ThurmanDavid Morrisseyrobin ...\n",
              "36339    Angel AquinoPerry DizonHazel Orenciocentury of...\n",
              "36340       Erika EleniakAdam BaldwinJulie du Pagebetrayal\n",
              "Length: 36341, dtype: object"
            ]
          },
          "metadata": {},
          "execution_count": 12
        }
      ]
    },
    {
      "cell_type": "code",
      "source": [
        "X.shape"
      ],
      "metadata": {
        "colab": {
          "base_uri": "https://localhost:8080/"
        },
        "id": "6siBL1ffK2Rg",
        "outputId": "3ae63d1f-a628-4ac1-edbf-4cdf16601a65"
      },
      "execution_count": 13,
      "outputs": [
        {
          "output_type": "execute_result",
          "data": {
            "text/plain": [
              "(36341,)"
            ]
          },
          "metadata": {},
          "execution_count": 13
        }
      ]
    },
    {
      "cell_type": "code",
      "source": [
        "from sklearn.feature_extraction.text import TfidfVectorizer"
      ],
      "metadata": {
        "id": "MkYIRNbjLOFr"
      },
      "execution_count": 14,
      "outputs": []
    },
    {
      "cell_type": "code",
      "source": [
        "tfidf = TfidfVectorizer()"
      ],
      "metadata": {
        "id": "_OPPXRttLdfq"
      },
      "execution_count": 15,
      "outputs": []
    },
    {
      "cell_type": "code",
      "source": [
        "X = tfidf.fit_transform(X)"
      ],
      "metadata": {
        "id": "c0Vac_ABLkdG"
      },
      "execution_count": 16,
      "outputs": []
    },
    {
      "cell_type": "code",
      "source": [
        "X.shape"
      ],
      "metadata": {
        "colab": {
          "base_uri": "https://localhost:8080/"
        },
        "id": "d2gBpvd-LwR5",
        "outputId": "cac76fa8-412d-4459-b788-57c87416d5ea"
      },
      "execution_count": 17,
      "outputs": [
        {
          "output_type": "execute_result",
          "data": {
            "text/plain": [
              "(36341, 119276)"
            ]
          },
          "metadata": {},
          "execution_count": 17
        }
      ]
    },
    {
      "cell_type": "code",
      "source": [
        "print(X)"
      ],
      "metadata": {
        "colab": {
          "base_uri": "https://localhost:8080/"
        },
        "id": "sA0ZgWi0L0n8",
        "outputId": "d37ede1a-79b1-47fa-d541-f172f166f39d"
      },
      "execution_count": 18,
      "outputs": [
        {
          "output_type": "stream",
          "name": "stdout",
          "text": [
            "  (0, 103495)\t0.29221617149593737\n",
            "  (0, 91332)\t0.5457321865940576\n",
            "  (0, 2292)\t0.5457321865940576\n",
            "  (0, 46517)\t0.48247353524128106\n",
            "  (0, 107903)\t0.29356729712039537\n",
            "  (1, 32175)\t0.5392793871047497\n",
            "  (1, 52457)\t0.5392793871047497\n",
            "  (1, 115115)\t0.5392793871047497\n",
            "  (1, 92135)\t0.3571179468071811\n",
            "  (2, 73215)\t0.2929096458435556\n",
            "  (2, 81315)\t0.33777393441433007\n",
            "  (2, 69766)\t0.48104635775425547\n",
            "  (2, 64319)\t0.48104635775425547\n",
            "  (2, 71184)\t0.48104635775425547\n",
            "  (2, 112732)\t0.32541652336069427\n",
            "  (3, 34947)\t0.44900590039565497\n",
            "  (3, 107670)\t0.20092712104085086\n",
            "  (3, 29510)\t0.44900590039565497\n",
            "  (3, 8442)\t0.44900590039565497\n",
            "  (3, 51287)\t0.44900590039565497\n",
            "  (3, 114641)\t0.39141167288391376\n",
            "  (4, 52794)\t0.263708098231598\n",
            "  (4, 83454)\t0.2986147645030299\n",
            "  (4, 14959)\t0.3321824555140605\n",
            "  (4, 106664)\t0.1329305471483623\n",
            "  :\t:\n",
            "  (36336, 17037)\t0.45610162826826117\n",
            "  (36336, 7424)\t0.45610162826826117\n",
            "  (36336, 75962)\t0.40973798794371463\n",
            "  (36337, 86542)\t0.450356690937005\n",
            "  (36337, 62631)\t0.450356690937005\n",
            "  (36337, 14113)\t0.450356690937005\n",
            "  (36337, 65627)\t0.3299136318975899\n",
            "  (36337, 48388)\t0.35237385251884235\n",
            "  (36337, 130)\t0.3981535085039233\n",
            "  (36338, 76747)\t0.5074575533396176\n",
            "  (36338, 10427)\t0.5074575533396176\n",
            "  (36338, 107251)\t0.4884194069715996\n",
            "  (36338, 50794)\t0.3948671472459429\n",
            "  (36338, 83686)\t0.3008323154790723\n",
            "  (36339, 11639)\t0.4671665867566332\n",
            "  (36339, 81782)\t0.4671665867566332\n",
            "  (36339, 30372)\t0.4671665867566332\n",
            "  (36339, 4047)\t0.4671665867566332\n",
            "  (36339, 3462)\t0.32802804447448397\n",
            "  (36339, 81037)\t0.1393525131128766\n",
            "  (36340, 82476)\t0.4877757184456959\n",
            "  (36340, 33646)\t0.4877757184456959\n",
            "  (36340, 7026)\t0.4694759700994152\n",
            "  (36340, 34393)\t0.403296171115123\n",
            "  (36340, 31706)\t0.37562509081884426\n"
          ]
        }
      ]
    },
    {
      "cell_type": "code",
      "source": [
        "from sklearn.metrics.pairwise import cosine_similarity"
      ],
      "metadata": {
        "id": "9MynW0KuM40d"
      },
      "execution_count": 19,
      "outputs": []
    },
    {
      "cell_type": "code",
      "source": [
        "Similarity_Score = cosine_similarity(X)"
      ],
      "metadata": {
        "id": "pf0y1orQNIS0"
      },
      "execution_count": 20,
      "outputs": []
    },
    {
      "cell_type": "code",
      "source": [
        "Similarity_Score"
      ],
      "metadata": {
        "colab": {
          "base_uri": "https://localhost:8080/"
        },
        "id": "0xp63FjjNV-4",
        "outputId": "4d27daad-dcc7-492f-a1d3-681ebc35893e"
      },
      "execution_count": 21,
      "outputs": [
        {
          "output_type": "execute_result",
          "data": {
            "text/plain": [
              "array([[1., 0., 0., ..., 0., 0., 0.],\n",
              "       [0., 1., 0., ..., 0., 0., 0.],\n",
              "       [0., 0., 1., ..., 0., 0., 0.],\n",
              "       ...,\n",
              "       [0., 0., 0., ..., 1., 0., 0.],\n",
              "       [0., 0., 0., ..., 0., 1., 0.],\n",
              "       [0., 0., 0., ..., 0., 0., 1.]])"
            ]
          },
          "metadata": {},
          "execution_count": 21
        }
      ]
    },
    {
      "cell_type": "code",
      "source": [
        "Similarity_Score.shape"
      ],
      "metadata": {
        "colab": {
          "base_uri": "https://localhost:8080/"
        },
        "id": "QGPP5zErNbw_",
        "outputId": "4fbcf085-0baa-4695-eaf7-6006678ee053"
      },
      "execution_count": 22,
      "outputs": [
        {
          "output_type": "execute_result",
          "data": {
            "text/plain": [
              "(36341, 36341)"
            ]
          },
          "metadata": {},
          "execution_count": 22
        }
      ]
    },
    {
      "cell_type": "code",
      "source": [
        "Favourite_Movie_Name = input('Enter your favourite movie name :')"
      ],
      "metadata": {
        "colab": {
          "base_uri": "https://localhost:8080/"
        },
        "id": "SJEl0f2NNk-7",
        "outputId": "ad1c440b-4c64-4bd1-dbe0-e9c0b9fd4462"
      },
      "execution_count": 24,
      "outputs": [
        {
          "name": "stdout",
          "output_type": "stream",
          "text": [
            "Enter your favourite movie name :toy story\n"
          ]
        }
      ]
    },
    {
      "cell_type": "code",
      "source": [
        "All_Movies_Title_List = df['movie_title'].tolist()"
      ],
      "metadata": {
        "id": "R4BDAx2gOoCa"
      },
      "execution_count": 25,
      "outputs": []
    },
    {
      "cell_type": "code",
      "source": [
        "import difflib"
      ],
      "metadata": {
        "id": "awXaCFyGO__F"
      },
      "execution_count": 26,
      "outputs": []
    },
    {
      "cell_type": "code",
      "source": [
        "Movie_Recommendation = difflib.get_close_matches(Favourite_Movie_Name, All_Movies_Title_List)\n",
        "print(Movie_Recommendation)"
      ],
      "metadata": {
        "colab": {
          "base_uri": "https://localhost:8080/"
        },
        "id": "dgtEv5aoPGrC",
        "outputId": "affa4a14-3fca-43d5-a104-1e5f1cb2ebad"
      },
      "execution_count": 27,
      "outputs": [
        {
          "output_type": "stream",
          "name": "stdout",
          "text": [
            "['toy story', 'toy story 3', 'toy story 2']\n"
          ]
        }
      ]
    },
    {
      "cell_type": "code",
      "source": [
        "Close_Match = Movie_Recommendation[0]\n",
        "print(Close_Match)"
      ],
      "metadata": {
        "colab": {
          "base_uri": "https://localhost:8080/"
        },
        "id": "tdjN-vgtPfHH",
        "outputId": "6c19d821-96b6-4921-e0ef-091797b6a0e4"
      },
      "execution_count": 28,
      "outputs": [
        {
          "output_type": "stream",
          "name": "stdout",
          "text": [
            "toy story\n"
          ]
        }
      ]
    }
  ]
}